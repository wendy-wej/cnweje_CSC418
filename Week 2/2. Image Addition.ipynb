{
 "cells": [
  {
   "cell_type": "markdown",
   "id": "069b61f3-d69e-43c1-834e-db672e3bf688",
   "metadata": {},
   "source": [
    "## Addition of Images\n"
   ]
  },
  {
   "cell_type": "code",
   "execution_count": 2,
   "id": "bf32ca0b-b3ee-4d63-9e9b-60222add2bed",
   "metadata": {},
   "outputs": [],
   "source": [
    "#A program to illustrate arithmetic operation of addition\n",
    "\n",
    "#organizing imports\n",
    "import cv2\n",
    "\n",
    "# path to input images\n",
    "image1 = cv2.imread('img/sst.jpg')\n",
    "image2 = cv2.imread('img/sst-foyer.jpg')\n",
    "\n",
    "#resize images\n",
    "image1 = cv2.resize(image1, (500,400))\n",
    "image2 = cv2.resize(image2, (500, 400))\n",
    "\n",
    "# cv2.addweighted with applied parameters\n",
    "addImage = cv2.addWeighted(image1, 0.5, image2, 0.6, 0)\n",
    "\n",
    "# sub = cv2.subtract(image1, image2)\n",
    "\n",
    "#window showing output image\n",
    "cv2.imshow('Weighted Image', addImage)\n",
    "\n",
    "# De-allocate any associated memory usage\n",
    "if cv2.waitKey(0) &0xff ==27:\n",
    "    cv2.destroyAllWindows()"
   ]
  },
  {
   "cell_type": "code",
   "execution_count": null,
   "id": "35c8f2d0-a992-40d9-9dfc-47d123422919",
   "metadata": {},
   "outputs": [],
   "source": []
  }
 ],
 "metadata": {
  "kernelspec": {
   "display_name": "Python 3 (ipykernel)",
   "language": "python",
   "name": "python3"
  },
  "language_info": {
   "codemirror_mode": {
    "name": "ipython",
    "version": 3
   },
   "file_extension": ".py",
   "mimetype": "text/x-python",
   "name": "python",
   "nbconvert_exporter": "python",
   "pygments_lexer": "ipython3",
   "version": "3.11.7"
  }
 },
 "nbformat": 4,
 "nbformat_minor": 5
}
