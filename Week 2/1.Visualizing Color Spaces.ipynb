{
 "cells": [
  {
   "cell_type": "markdown",
   "id": "9c9643ad-9c22-4812-86d1-8f94c6114b2a",
   "metadata": {},
   "source": [
    "## Visualizing Color Spaces"
   ]
  },
  {
   "cell_type": "code",
   "execution_count": 1,
   "id": "989397fa-7c9b-4800-8e34-0d6d77efe0d3",
   "metadata": {},
   "outputs": [],
   "source": [
    "import cv2\n",
    "\n",
    "image = cv2.imread('img/color-space.jpg')\n",
    "\n",
    "# The split method separates color spaces\n",
    "B, G, R = cv2.split(image)\n",
    "\n",
    "#Corresponding channels are separated\n",
    "cv2.imshow(\"original\", image)\n",
    "cv2.waitKey(0)\n",
    "\n",
    "cv2.imshow(\"blue\", B)\n",
    "cv2.waitKey(0)\n",
    "\n",
    "cv2.imshow(\"Green\", G)\n",
    "cv2.waitKey(0)\n",
    "\n",
    "cv2.imshow(\"Red\", R)\n",
    "cv2.waitKey(0)\n",
    "\n",
    "cv2.destroyAllWindows()\n"
   ]
  },
  {
   "cell_type": "code",
   "execution_count": null,
   "id": "4e981bc2-0464-44a8-bfe2-f886ef265fbb",
   "metadata": {},
   "outputs": [],
   "source": []
  }
 ],
 "metadata": {
  "kernelspec": {
   "display_name": "Python 3 (ipykernel)",
   "language": "python",
   "name": "python3"
  },
  "language_info": {
   "codemirror_mode": {
    "name": "ipython",
    "version": 3
   },
   "file_extension": ".py",
   "mimetype": "text/x-python",
   "name": "python",
   "nbconvert_exporter": "python",
   "pygments_lexer": "ipython3",
   "version": "3.11.7"
  }
 },
 "nbformat": 4,
 "nbformat_minor": 5
}
