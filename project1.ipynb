{
 "cells": [
  {
   "cell_type": "markdown",
   "metadata": {},
   "source": [
    "## Project I"
   ]
  },
  {
   "cell_type": "markdown",
   "metadata": {},
   "source": [
    "You have been contracted to develop an application that will identify\n",
    "the facial recognition at login for the University Management Council\n",
    "(UMC) members\n",
    "of Pan-Atlantic University (PAU). The application is meant to request\n",
    "the username and password of the UMC member and then read the\n",
    "image of the user from the file displaying their corresponding profile\n",
    "details.\n",
    "Find below the link to the PAU-UMC profiles:\n",
    "https://pau.edu.ng/about-pau/governance/umc/\n",
    "Hints:\n",
    "• Username = first name\n",
    "• Password = sum of the number of alphabets of the surname\n",
    "• Use Python functions to execute the application"
   ]
  },
  {
   "cell_type": "code",
   "execution_count": 2,
   "metadata": {},
   "outputs": [
    {
     "name": "stdout",
     "output_type": "stream",
     "text": [
      "Image directory: c:\\Users\\inwej\\Documents\\PAN ATLANTIC\\YR 4 SEM 2\\CSC 418 -- Special Topics in Computer Science\\cnweje_CSC418\\umc-project-pics\n",
      "List of images: ['1. Prof. Enase Okonedo.jpg', '2. Dr. Adaora Ijeoma Onaga.jpg', '3. Dr Ikechukwu Obiaya.jpg', '4. Dr Darlington Agholor.jpg', 'Dr. Peter Bamkole.jpg', 'Dr. Sola Oni.jpg', 'Mrs Nneka Okekearu.png', 'Prof. Chris Ogbechie.jpg']\n",
      "Hello Adaora Onaga, you are successfully logged in!\n"
     ]
    }
   ],
   "source": [
    "import cv2\n",
    "import os\n",
    "\n",
    "img_directory = os.path.abspath(\"umc-project-pics\")\n",
    "#print(\"Image directory:\", img_directory)\n",
    "\n",
    "umc_pics = os.listdir(img_directory)\n",
    "#print(\"List of images:\", umc_pics)\n",
    "\n",
    "# Array of members\n",
    "umc_fname = [\"enase\", \"adaora\", \"ikechukwu\", \"darlington\", \"peter\", \"sola\", \"nneka\", \"chris\"]\n",
    "umc_lname = ['okonedo', 'onaga', 'obiaya', 'agholor', 'bamkole', 'oni', 'okekaru', 'ogbechie']\n",
    "\n",
    "# Function for facial recognition\n",
    "def recognize_face(username, password):\n",
    "    # Check if username exists\n",
    "    if username in umc_fname:\n",
    "        index = umc_fname.index(username)\n",
    "        surname = umc_lname[index]\n",
    "        correct_password = len(surname)\n",
    "        \n",
    "        # Check if password is correct\n",
    "        if int(password) == correct_password:  \n",
    "            # Load image for facial recognition\n",
    "            print(f\"Hello {umc_fname[index].capitalize()} {surname.capitalize()}, you are successfully logged in!\")\n",
    "            img_path = os.path.join(img_directory, umc_pics[index])\n",
    "            if os.path.exists(img_path):  # Fixed variable name typo (image_path -> img_path)\n",
    "                image = cv2.imread(img_path)\n",
    "                cv2.imshow(\"UMC Member\", image)\n",
    "                cv2.waitKey(0)\n",
    "                cv2.destroyAllWindows()\n",
    "                \n",
    "                \n",
    "                \n",
    "            else:\n",
    "                print(\"Image not found.\")\n",
    "        else:\n",
    "            print(\"Invalid password.\")\n",
    "    else:\n",
    "        print(\"Invalid username.\")\n",
    "\n",
    "# Input username and password\n",
    "username = input(\"Enter your username: \").lower()\n",
    "password = input(\"Enter your password (Hint: The length of your surname): \")\n",
    "recognize_face(username, password)\n"
   ]
  }
 ],
 "metadata": {
  "kernelspec": {
   "display_name": "Python 3",
   "language": "python",
   "name": "python3"
  },
  "language_info": {
   "codemirror_mode": {
    "name": "ipython",
    "version": 3
   },
   "file_extension": ".py",
   "mimetype": "text/x-python",
   "name": "python",
   "nbconvert_exporter": "python",
   "pygments_lexer": "ipython3",
   "version": "3.11.5"
  }
 },
 "nbformat": 4,
 "nbformat_minor": 2
}
