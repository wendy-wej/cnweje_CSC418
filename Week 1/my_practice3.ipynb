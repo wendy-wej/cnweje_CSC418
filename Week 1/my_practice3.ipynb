{
 "cells": [
  {
   "cell_type": "code",
   "execution_count": 1,
   "id": "c5e2ee59-1feb-41e3-87d0-5ecc0005250b",
   "metadata": {},
   "outputs": [],
   "source": [
    "import cv2"
   ]
  },
  {
   "cell_type": "code",
   "execution_count": 2,
   "id": "a9cfcd5e-bb09-4dc7-b169-ca12757d22d5",
   "metadata": {},
   "outputs": [],
   "source": [
    "#importing os module\n",
    "import os"
   ]
  },
  {
   "cell_type": "code",
   "execution_count": 5,
   "id": "4c0f23e9-3c91-439e-b28b-16e0a730fe75",
   "metadata": {},
   "outputs": [],
   "source": [
    "#image path /Users/inwej/Documents/PAN ATLANTIC/YR 4 SEM 2/CSC 418 -- Special Topics in Computer Science/cnweje_CSC418/images\n",
    "image_path= r'/Users/inwej/Documents/PAN ATLANTIC/YR 4 SEM 2/CSC 418 -- Special Topics in Computer Science/cnweje_CSC418/images/bmo.jpg'\n",
    "#C:\\Users\\inwej\\Documents\\PAN ATLANTIC\\YR 4 SEM 2\\CSC 418 -- Special Topics in Computer Science\\cnweje_CSC418\\images\\bmo.jpg"
   ]
  },
  {
   "cell_type": "code",
   "execution_count": 6,
   "id": "82a196ef-4f41-4487-983a-06d323faa0c3",
   "metadata": {},
   "outputs": [],
   "source": [
    "#image directory\n",
    "directory = r'/Users/inwej/Documents/PAN ATLANTIC/YR 4 SEM 2/CSC 418 -- Special Topics in Computer Science/cnweje_CSC418/images'"
   ]
  },
  {
   "cell_type": "code",
   "execution_count": 7,
   "id": "22feb790-e14f-4ac7-907b-0fdf9a6a32fc",
   "metadata": {},
   "outputs": [],
   "source": [
    "img = cv2.imread(image_path,0)"
   ]
  },
  {
   "cell_type": "code",
   "execution_count": 8,
   "id": "743f95be-aecf-4f58-9081-93449e64a714",
   "metadata": {},
   "outputs": [],
   "source": [
    "#change the current directory to specified directory\n",
    "os.chdir(directory)"
   ]
  },
  {
   "cell_type": "code",
   "execution_count": 9,
   "id": "9c1a3d4e-4d76-4d76-a0a9-99e3f593807e",
   "metadata": {},
   "outputs": [
    {
     "name": "stdout",
     "output_type": "stream",
     "text": [
      "before saving image:\n",
      "['bmo.jpg', 'marcy and pb.jpg', 'Payaza.jpeg']\n"
     ]
    }
   ],
   "source": [
    "#list files and directories\n",
    "print(\"before saving image:\")\n",
    "print(os.listdir(directory))"
   ]
  },
  {
   "cell_type": "code",
   "execution_count": 10,
   "id": "029a59d8-5bcd-462c-b3e2-c045a4a4d5f0",
   "metadata": {},
   "outputs": [],
   "source": [
    "#filename\n",
    "filename = 'grayImage.jpg'"
   ]
  },
  {
   "cell_type": "code",
   "execution_count": 11,
   "id": "c8d9307f-aa4c-49b7-ab57-264bfb2300fe",
   "metadata": {},
   "outputs": [
    {
     "data": {
      "text/plain": [
       "True"
      ]
     },
     "execution_count": 11,
     "metadata": {},
     "output_type": "execute_result"
    }
   ],
   "source": [
    "#using cv2.imwrite() method to save the image\n",
    "cv2.imwrite(filename, img)"
   ]
  },
  {
   "cell_type": "code",
   "execution_count": 12,
   "id": "719ab92d-e5bf-47c2-b446-ebba604fd5ab",
   "metadata": {},
   "outputs": [
    {
     "name": "stdout",
     "output_type": "stream",
     "text": [
      "after saving image:\n",
      "['bmo.jpg', 'grayImage.jpg', 'marcy and pb.jpg', 'Payaza.jpeg']\n"
     ]
    }
   ],
   "source": [
    "#list files and directories\n",
    "print(\"after saving image:\")\n",
    "print(os.listdir(directory))"
   ]
  },
  {
   "cell_type": "code",
   "execution_count": 13,
   "id": "b4bf0084-d0ea-4a53-821e-df2790548667",
   "metadata": {},
   "outputs": [
    {
     "name": "stdout",
     "output_type": "stream",
     "text": [
      "successfully saved\n"
     ]
    }
   ],
   "source": [
    "print(\"successfully saved\")"
   ]
  },
  {
   "cell_type": "code",
   "execution_count": null,
   "id": "ad3d659e-6920-4385-893c-f89f6a3471d1",
   "metadata": {},
   "outputs": [],
   "source": []
  }
 ],
 "metadata": {
  "kernelspec": {
   "display_name": "Python 3 (ipykernel)",
   "language": "python",
   "name": "python3"
  },
  "language_info": {
   "codemirror_mode": {
    "name": "ipython",
    "version": 3
   },
   "file_extension": ".py",
   "mimetype": "text/x-python",
   "name": "python",
   "nbconvert_exporter": "python",
   "pygments_lexer": "ipython3",
   "version": "3.11.5"
  }
 },
 "nbformat": 4,
 "nbformat_minor": 5
}
