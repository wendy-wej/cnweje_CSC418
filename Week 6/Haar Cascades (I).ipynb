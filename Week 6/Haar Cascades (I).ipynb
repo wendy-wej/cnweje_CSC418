{
 "cells": [
  {
   "cell_type": "code",
   "execution_count": 2,
   "id": "e7b4ea8d-08e4-49c2-9c16-543784b445ac",
   "metadata": {},
   "outputs": [],
   "source": [
    "import cv2\n",
    "\n",
    "#Load the pre-trained Haar Cascade face detection model\n",
    "face_cascade = cv2.CascadeClassifier(cv2.data.haarcascades + 'haarcascade_frontalface_default.xml')\n",
    "\n",
    "#Load the input image\n",
    "image = cv2.imread('img/tic.jpg')\n",
    "\n",
    "# resize images\n",
    "#image = cv2.resize(image, (770, 570))\n",
    "\n",
    "#Convert the image to grayscale\n",
    "gray_image = cv2.cvtColor(image, cv2.COLOR_BGR2GRAY)\n",
    "\n",
    "#Perform face detection\n",
    "faces = face_cascade.detectMultiScale(gray_image, scaleFactor = 1.3, minNeighbors=5, minSize=(10, 30))\n",
    "\n",
    "#Draw bounding boxes around detected faces\n",
    "for (x,y,w,h) in faces:\n",
    "    cv2.rectangle(image, (x,y), (x+w, y+h), (0, 255, 0), 2)\n",
    "\n",
    "#Display the output image\n",
    "cv2.imshow('Face Detection', image)\n",
    "cv2.waitKey(0)\n",
    "cv2.destroyAllWindows()"
   ]
  },
  {
   "cell_type": "code",
   "execution_count": null,
   "id": "836bd15c-bb2d-4ad8-9e0d-3ddaa3d4303d",
   "metadata": {},
   "outputs": [],
   "source": []
  }
 ],
 "metadata": {
  "kernelspec": {
   "display_name": "Python 3 (ipykernel)",
   "language": "python",
   "name": "python3"
  },
  "language_info": {
   "codemirror_mode": {
    "name": "ipython",
    "version": 3
   },
   "file_extension": ".py",
   "mimetype": "text/x-python",
   "name": "python",
   "nbconvert_exporter": "python",
   "pygments_lexer": "ipython3",
   "version": "3.11.7"
  }
 },
 "nbformat": 4,
 "nbformat_minor": 5
}
